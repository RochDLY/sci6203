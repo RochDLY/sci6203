{
 "cells": [
  {
   "cell_type": "markdown",
   "metadata": {},
   "source": [
    "---\n",
    "title: \"Récupération du corpus\"\n",
    "author: \"Roch Delannay\"\n",
    "date: \"2022-10-14\"\n",
    "categories: [code, analysis]\n",
    "image: \"image.jpg\"\n",
    "---"
   ]
  },
  {
   "cell_type": "markdown",
   "metadata": {},
   "source": [
    "Récupération des épigrammes en grec via l'API de l'Anthologie grecque pour former notre corpus."
   ]
  },
  {
   "cell_type": "markdown",
   "metadata": {},
   "source": [
    "## Récupération des données de l'API\n",
    "\n",
    "Les données sont disponibles via l'URL : http://anthologiagraeca.org/api/passages.  \n",
    "Pour les récupérer nous les injectons sous forme de liste dans une variable `results`.  \n",
    "L'API sert les données paginées, de fait les données récupérées sont limitées à la première page. Or nous voulons récupérer l'ensemble du corpus. Pour parer cette fonctionnalité nous créons une boucle `while` pour modifier l'URL de la page (vers la page suivante) et indexer toutes les données dans notre variable."
   ]
  },
  {
   "cell_type": "code",
   "execution_count": 1,
   "metadata": {},
   "outputs": [],
   "source": [
    "# Importation of the useful libraries \n",
    "# Definition of our variables for the requests \n",
    "\n",
    "import requests\n",
    "import json\n",
    "\n",
    "url = 'http://anthologiagraeca.org/api/passages'\n",
    "parameters = {\n",
    "    'format':'json',\n",
    "    'limit':'500'\n",
    "}\n",
    "results = []\n",
    "pagination= True\n",
    "while pagination == True :\n",
    "    data = requests.get(url, parameters).json()\n",
    "    for result in data['results'] :\n",
    "        results.append(result)\n",
    "    if data['next'] is None:\n",
    "        pagination = False\n",
    "    else:\n",
    "        url = data['next']"
   ]
  },
  {
   "cell_type": "markdown",
   "metadata": {},
   "source": [
    "## Vérification 1\n",
    "\n",
    "La première vérification consiste à comparer le nombre de résultats obtenus avec le nombre total d'épigrammes indexées dans le portail de l'Atnhologie grecque."
   ]
  },
  {
   "cell_type": "code",
   "execution_count": 3,
   "metadata": {},
   "outputs": [
    {
     "data": {
      "text/plain": [
       "4134"
      ]
     },
     "execution_count": 3,
     "metadata": {},
     "output_type": "execute_result"
    }
   ],
   "source": [
    "len(results)"
   ]
  },
  {
   "cell_type": "markdown",
   "metadata": {},
   "source": [
    "## Écriture d'un fichier\n",
    "\n",
    "Maintenant que nous avons bien récupéré nos données nous souhaitons créer un fichier au format json que nous pourrons utiliser pour les futures étapes de notre fouille de texte."
   ]
  },
  {
   "cell_type": "code",
   "execution_count": 4,
   "metadata": {},
   "outputs": [],
   "source": [
    "mesTextes = []\n",
    "for epigram in results:\n",
    "    mesTextes.append({'url': epigram['url'], 'greekText': [text for text in epigram['texts'] if text['language'] == 'grc']})"
   ]
  },
  {
   "cell_type": "code",
   "execution_count": 8,
   "metadata": {},
   "outputs": [],
   "source": [
    "out_file = open('greek-epigram.json', 'w')\n",
    "\n",
    "json.dump(mesTextes, out_file, indent=3, ensure_ascii=False)"
   ]
  }
 ],
 "metadata": {
  "kernelspec": {
   "display_name": "Python 3.8.10 64-bit",
   "language": "python",
   "name": "python3"
  },
  "language_info": {
   "codemirror_mode": {
    "name": "ipython",
    "version": 3
   },
   "file_extension": ".py",
   "mimetype": "text/x-python",
   "name": "python",
   "nbconvert_exporter": "python",
   "pygments_lexer": "ipython3",
   "version": "3.8.10"
  },
  "orig_nbformat": 4,
  "vscode": {
   "interpreter": {
    "hash": "916dbcbb3f70747c44a77c7bcd40155683ae19c65e1c03b4aa3499c5328201f1"
   }
  }
 },
 "nbformat": 4,
 "nbformat_minor": 2
}
